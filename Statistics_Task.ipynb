{
 "cells": [
  {
   "cell_type": "code",
   "execution_count": 26,
   "id": "b77372aa",
   "metadata": {},
   "outputs": [
    {
     "name": "stdout",
     "output_type": "stream",
     "text": [
      "(11,)\n",
      "[150 160 170 165 155 158 162 161 159 165 850]\n"
     ]
    }
   ],
   "source": [
    "import numpy as np\n",
    "from scipy import stats\n",
    "\n",
    "data = np.load(\"prices.npy\")\n",
    "numpy_arr = np.array(data)\n",
    "print(numpy_arr.shape)\n",
    "print(numpy_arr)"
   ]
  },
  {
   "cell_type": "code",
   "execution_count": 3,
   "id": "c3eae0f3",
   "metadata": {},
   "outputs": [
    {
     "name": "stdout",
     "output_type": "stream",
     "text": [
      "the mean with outliers is :  223.1818181818182\n",
      "the mode with outliers is :  ModeResult(mode=np.int64(165), count=np.int64(2))\n",
      "the median with outliers is :  161.0\n"
     ]
    }
   ],
   "source": [
    "Mean = np.mean(numpy_arr)\n",
    "print(\"the mean with outliers is : \",Mean)\n",
    "\n",
    "Mode = stats.mode(numpy_arr)\n",
    "print(\"the mode with outliers is : \",Mode)\n",
    "\n",
    "Median = np.median(numpy_arr)    \n",
    "print(\"the median with outliers is : \",Median)"
   ]
  },
  {
   "cell_type": "code",
   "execution_count": 4,
   "id": "b604b548",
   "metadata": {},
   "outputs": [
    {
     "name": "stdout",
     "output_type": "stream",
     "text": [
      "[150 160 170 165 155 158 162 161 159 165 150]\n"
     ]
    }
   ],
   "source": [
    "numpy_arr[-1] = numpy_arr[0]\n",
    "print(numpy_arr)"
   ]
  },
  {
   "cell_type": "code",
   "execution_count": 5,
   "id": "d92f4e89",
   "metadata": {},
   "outputs": [
    {
     "name": "stdout",
     "output_type": "stream",
     "text": [
      "the mean without outliers is :  159.54545454545453\n",
      "the mode without outliers is :  ModeResult(mode=np.int64(150), count=np.int64(2))\n",
      "the median without outliers is :  160.0\n"
     ]
    }
   ],
   "source": [
    "Mean = np.mean(numpy_arr)\n",
    "print(\"the mean without outliers is : \",Mean)\n",
    "\n",
    "Mode = stats.mode(numpy_arr)\n",
    "print(\"the mode without outliers is : \",Mode)\n",
    "\n",
    "Median = np.median(numpy_arr)    \n",
    "print(\"the median without outliers is : \",Median)"
   ]
  },
  {
   "cell_type": "markdown",
   "id": "158679f3",
   "metadata": {},
   "source": [
    "3. yes the outliear effect the average value by about 63\n",
    "5. By removing the outlier (850) it lower down the mean value to 159.54 instead of 223.18\n",
    "6. before removing the outliear the Median was good central tendancy while after removing the outlier\n",
    "    mean performs better as central tendancy\n",
    "    "
   ]
  },
  {
   "cell_type": "code",
   "execution_count": 7,
   "id": "ec82b765",
   "metadata": {},
   "outputs": [],
   "source": [
    "\n",
    "### finding Zscore, std, mean and cv\n",
    "from scipy.stats import zscore"
   ]
  },
  {
   "cell_type": "code",
   "execution_count": null,
   "id": "937f765f",
   "metadata": {},
   "outputs": [
    {
     "name": "stdout",
     "output_type": "stream",
     "text": [
      "z score is :  [-1.61825982  0.07705999  1.7723798   0.9247199  -0.77059991 -0.26200397\n",
      "  0.41612395  0.24659197 -0.09247199  0.9247199  -1.61825982]\n"
     ]
    }
   ],
   "source": [
    "# std\n",
    "z_score = zscore(numpy_arr)\n",
    "print(\"z score is : \",z_score)"
   ]
  },
  {
   "cell_type": "code",
   "execution_count": 23,
   "id": "77d875f8",
   "metadata": {},
   "outputs": [
    {
     "name": "stdout",
     "output_type": "stream",
     "text": [
      "25th percentile is :  32.5\n",
      "50th percentile is(median) :  55.0\n",
      "75th percentile is :  77.5\n"
     ]
    }
   ],
   "source": [
    "import numpy as np\n",
    "data =[10,20,30,40,50,60,70,80,90,100]\n",
    "p25 = np.percentile(data,25)\n",
    "p50 = np.percentile(data,50)\n",
    "p75 = np.percentile(data,75)\n",
    "\n",
    "print(\"25th percentile is : \",p25)\n",
    "print(\"50th percentile is(median) : \",p50)\n",
    "print(\"75th percentile is : \",p75)"
   ]
  },
  {
   "cell_type": "code",
   "execution_count": null,
   "id": "a22f7052",
   "metadata": {},
   "outputs": [
    {
     "name": "stdout",
     "output_type": "stream",
     "text": [
      "[ 90 180 270 360 450 540 630 720 810 900]\n"
     ]
    }
   ],
   "source": []
  },
  {
   "cell_type": "code",
   "execution_count": 24,
   "id": "53886b88",
   "metadata": {},
   "outputs": [
    {
     "name": "stdout",
     "output_type": "stream",
     "text": [
      "[ 30  60  90 120 150 180 210 240 270 300]\n",
      "30th percentile is :  111.0\n",
      "70th percentile is(median) :  219.0\n",
      "82th percentile is :  251.4\n"
     ]
    }
   ],
   "source": [
    "data = np.dot(np.array(data),3)\n",
    "print(data)\n",
    "p30 = np.percentile(data,30)\n",
    "p70 = np.percentile(data,70)\n",
    "p82 = np.percentile(data,82)\n",
    "\n",
    "print(\"30th percentile is : \",p30)\n",
    "print(\"70th percentile is(median) : \",p70)\n",
    "print(\"82th percentile is : \",p82)"
   ]
  },
  {
   "cell_type": "markdown",
   "id": "9ace49be",
   "metadata": {},
   "source": [
    "Practice Task\n",
    "1. Download prices.npy form google class room\n",
    "2. load using numpy\n",
    "3. calculate q1, q2, q3\n",
    "4. find the IQr\n",
    "5. Determine if any values are outliers (use IQR method)"
   ]
  },
  {
   "cell_type": "code",
   "execution_count": 28,
   "id": "5656ef2a",
   "metadata": {},
   "outputs": [
    {
     "name": "stdout",
     "output_type": "stream",
     "text": [
      "(11,)\n",
      "[150 160 170 165 155 158 162 161 159 165 850]\n"
     ]
    }
   ],
   "source": [
    "data1 = np.load(\"prices.npy\")\n",
    "numpy_arr1 = np.array(data)\n",
    "print(numpy_arr1.shape)\n",
    "print(numpy_arr1)"
   ]
  },
  {
   "cell_type": "code",
   "execution_count": 30,
   "id": "dc01190e",
   "metadata": {},
   "outputs": [
    {
     "name": "stdout",
     "output_type": "stream",
     "text": [
      "Q1 is :  158.5\n",
      "Q2 is(median) :  161.0\n",
      "Q3 is :  165.0\n"
     ]
    }
   ],
   "source": [
    "## calculate Q1, Q2, Q3\n",
    "Q1 = np.percentile(numpy_arr1,25)\n",
    "Q2 = np.percentile(numpy_arr1,50)\n",
    "Q3 = np.percentile(numpy_arr1,75)\n",
    "\n",
    "print(\"Q1 is : \",Q1)\n",
    "print(\"Q2 is(median) : \",Q2)\n",
    "print(\"Q3 is : \",Q3)"
   ]
  },
  {
   "cell_type": "code",
   "execution_count": 31,
   "id": "26c128d3",
   "metadata": {},
   "outputs": [
    {
     "name": "stdout",
     "output_type": "stream",
     "text": [
      "IQR is :  6.5\n"
     ]
    }
   ],
   "source": [
    "# now finding IQR\n",
    "IQR = Q3 - Q1\n",
    "print(\"IQR is : \",IQR)"
   ]
  },
  {
   "cell_type": "code",
   "execution_count": 37,
   "id": "4cc6ba5e",
   "metadata": {},
   "outputs": [
    {
     "name": "stdout",
     "output_type": "stream",
     "text": [
      "outlier\n",
      "850\n"
     ]
    }
   ],
   "source": [
    "## determine whether any values are outliers (use IQR method)\n",
    "\n",
    "## if a value is greater than Q3 + 1.5 * IQR or less than Q1 - 1.5 * IQR then it is outlier\n",
    "for i in range(len(numpy_arr1)):\n",
    "    if numpy_arr1[i] > Q3 + 1.5 * IQR or numpy_arr1[i] < Q1 - 1.5 * IQR:\n",
    "        print(\"outlier\")\n",
    "        print(numpy_arr1[i])\n",
    "    else:\n",
    "       pass # print(\"not outlier\")"
   ]
  }
 ],
 "metadata": {
  "kernelspec": {
   "display_name": "Python 3",
   "language": "python",
   "name": "python3"
  },
  "language_info": {
   "codemirror_mode": {
    "name": "ipython",
    "version": 3
   },
   "file_extension": ".py",
   "mimetype": "text/x-python",
   "name": "python",
   "nbconvert_exporter": "python",
   "pygments_lexer": "ipython3",
   "version": "3.10.0"
  }
 },
 "nbformat": 4,
 "nbformat_minor": 5
}
