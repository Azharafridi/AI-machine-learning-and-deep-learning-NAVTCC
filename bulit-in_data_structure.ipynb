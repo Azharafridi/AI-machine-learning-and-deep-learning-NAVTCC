{
 "cells": [
  {
   "cell_type": "markdown",
   "id": "99d85504",
   "metadata": {},
   "source": [
    "### Tuple \n"
   ]
  },
  {
   "cell_type": "code",
   "execution_count": null,
   "id": "ab670912",
   "metadata": {},
   "outputs": [
    {
     "name": "stdout",
     "output_type": "stream",
     "text": [
      "(1, 2, 4)\n",
      "<class 'tuple'>\n",
      "<class 'tuple'>\n"
     ]
    }
   ],
   "source": [
    "t = (1,2,4)\n",
    "print(t)\n",
    "print(type(t))\n",
    "\n",
    "## cannot change its value\n",
    "# we can convert tuple to list and list to tuple\n",
    "\n",
    "lst = [1,2,3]\n",
    "tuplee = tuple(lst)\n",
    "print(type(tuplee))\n",
    "\n"
   ]
  },
  {
   "cell_type": "code",
   "execution_count": null,
   "id": "fe80878b",
   "metadata": {},
   "outputs": [
    {
     "name": "stdout",
     "output_type": "stream",
     "text": [
      "3\n",
      "3\n",
      "3\n"
     ]
    }
   ],
   "source": [
    "## count()\n",
    "t = (1,1,1,2,2,2,2,3,3,3)\n",
    "print(t.count(1))\n",
    "print(t.count(2))\n",
    "print(t.count(3))"
   ]
  },
  {
   "cell_type": "code",
   "execution_count": 5,
   "id": "29690f33",
   "metadata": {},
   "outputs": [
    {
     "name": "stdout",
     "output_type": "stream",
     "text": [
      "['this is some very good text and some words are appearing again and again', ' this the same text again', ' here comes another sentence']\n"
     ]
    },
    {
     "ename": "AttributeError",
     "evalue": "'list' object has no attribute 'split'",
     "output_type": "error",
     "traceback": [
      "\u001b[1;31m---------------------------------------------------------------------------\u001b[0m",
      "\u001b[1;31mAttributeError\u001b[0m                            Traceback (most recent call last)",
      "Cell \u001b[1;32mIn[5], line 4\u001b[0m\n\u001b[0;32m      2\u001b[0m splitted_text \u001b[38;5;241m=\u001b[39m text\u001b[38;5;241m.\u001b[39msplit(\u001b[38;5;124m\"\u001b[39m\u001b[38;5;124m.\u001b[39m\u001b[38;5;124m\"\u001b[39m)\n\u001b[0;32m      3\u001b[0m \u001b[38;5;28mprint\u001b[39m(splitted_text)\n\u001b[1;32m----> 4\u001b[0m again_splitted_text \u001b[38;5;241m=\u001b[39m \u001b[43msplitted_text\u001b[49m\u001b[38;5;241;43m.\u001b[39;49m\u001b[43msplit\u001b[49m()\n\u001b[0;32m      5\u001b[0m \u001b[38;5;28mprint\u001b[39m(again_splitted_text)\n",
      "\u001b[1;31mAttributeError\u001b[0m: 'list' object has no attribute 'split'"
     ]
    }
   ],
   "source": [
    "text = \"this is some very good text and some words are appearing again and again. this the same text again. here comes another sentence\"\n",
    "splitted_text = text.split(\".\")\n",
    "print(splitted_text)\n",
    "again_splitted_text = splitted_text.split()\n",
    "print(again_splitted_text)"
   ]
  },
  {
   "cell_type": "code",
   "execution_count": 6,
   "id": "27f91fb2",
   "metadata": {},
   "outputs": [
    {
     "name": "stdout",
     "output_type": "stream",
     "text": [
      "('learning', 'verb')\n",
      "('green', 'Adj')\n"
     ]
    }
   ],
   "source": [
    "#### packing and un-packing\n",
    "list = [(\"learning\", \"verb\"), (\"green\", \"Adj\")]\n",
    "word, tag = list\n",
    "print(word)\n",
    "print(tag)"
   ]
  },
  {
   "cell_type": "markdown",
   "id": "84ef8ebd",
   "metadata": {},
   "source": [
    "### Set"
   ]
  },
  {
   "cell_type": "code",
   "execution_count": 8,
   "id": "31c1233b",
   "metadata": {},
   "outputs": [
    {
     "data": {
      "text/plain": [
       "['nlp', 'is', 'fun', 'and', 'fun', 'and', 'fun']"
      ]
     },
     "execution_count": 8,
     "metadata": {},
     "output_type": "execute_result"
    }
   ],
   "source": [
    "text = \"NLP is fun and fun and fun\"\n",
    "tokens = text.lower().split()\n",
    "tokens"
   ]
  },
  {
   "cell_type": "code",
   "execution_count": 10,
   "id": "359b813d",
   "metadata": {},
   "outputs": [
    {
     "data": {
      "text/plain": [
       "{'and', 'fun', 'is', 'nlp'}"
      ]
     },
     "execution_count": 10,
     "metadata": {},
     "output_type": "execute_result"
    }
   ],
   "source": [
    "unique_words = set(tokens)\n",
    "unique_words"
   ]
  },
  {
   "cell_type": "code",
   "execution_count": 12,
   "id": "4261be28",
   "metadata": {},
   "outputs": [
    {
     "data": {
      "text/plain": [
       "['and', 'fun', 'is', 'nlp']"
      ]
     },
     "execution_count": 12,
     "metadata": {},
     "output_type": "execute_result"
    }
   ],
   "source": [
    "sorted_unique_words = sorted(unique_words)\n",
    "sorted_unique_words"
   ]
  },
  {
   "cell_type": "code",
   "execution_count": 13,
   "id": "ebc2d7b3",
   "metadata": {},
   "outputs": [],
   "source": [
    "reverese_words = sorted_unique_words.reverse()\n",
    "reverese_words"
   ]
  },
  {
   "cell_type": "markdown",
   "id": "be83ffde",
   "metadata": {},
   "source": [
    "#### Dictionary "
   ]
  },
  {
   "cell_type": "code",
   "execution_count": 14,
   "id": "8b7ffa6b",
   "metadata": {},
   "outputs": [
    {
     "data": {
      "text/plain": [
       "{'Python': 3, 'NLP': 2, 'is': 2}"
      ]
     },
     "execution_count": 14,
     "metadata": {},
     "output_type": "execute_result"
    }
   ],
   "source": [
    "word_freq = {\"Python\": 3, \"NLP\": 2, \"is\": 2}\n",
    "word_freq"
   ]
  },
  {
   "cell_type": "code",
   "execution_count": 15,
   "id": "4bae403d",
   "metadata": {},
   "outputs": [
    {
     "data": {
      "text/plain": [
       "{'name': 'Azhar', 'age': 20}"
      ]
     },
     "execution_count": 15,
     "metadata": {},
     "output_type": "execute_result"
    }
   ],
   "source": [
    "word_freq = dict(name = \"Azhar\", age = 20)\n",
    "word_freq"
   ]
  },
  {
   "cell_type": "code",
   "execution_count": 18,
   "id": "3bb6f78f",
   "metadata": {},
   "outputs": [
    {
     "data": {
      "text/plain": [
       "dict"
      ]
     },
     "execution_count": 18,
     "metadata": {},
     "output_type": "execute_result"
    }
   ],
   "source": [
    "type(word_freq)\n",
    "\n"
   ]
  },
  {
   "cell_type": "code",
   "execution_count": 24,
   "id": "3f466511",
   "metadata": {},
   "outputs": [
    {
     "data": {
      "text/plain": [
       "'Noun'"
      ]
     },
     "execution_count": 24,
     "metadata": {},
     "output_type": "execute_result"
    }
   ],
   "source": [
    "word_pos = {\"chair\":\"Noun\", \"Black\":\"Adjective\", \"phone\": \"noun\"}\n",
    "word_pos[\"chair\"]\n"
   ]
  },
  {
   "cell_type": "code",
   "execution_count": 25,
   "id": "038a0e2d",
   "metadata": {},
   "outputs": [
    {
     "data": {
      "text/plain": [
       "'Adjective'"
      ]
     },
     "execution_count": 25,
     "metadata": {},
     "output_type": "execute_result"
    }
   ],
   "source": [
    "word_pos[\"Black\"]\n"
   ]
  },
  {
   "cell_type": "code",
   "execution_count": 26,
   "id": "c4e59c10",
   "metadata": {},
   "outputs": [
    {
     "data": {
      "text/plain": [
       "{'chair': 'somethig else', 'Black': 'Adjective', 'phone': 'noun'}"
      ]
     },
     "execution_count": 26,
     "metadata": {},
     "output_type": "execute_result"
    }
   ],
   "source": [
    "word_pos[\"chair\"] = \"somethig else\"\n",
    "word_pos"
   ]
  },
  {
   "cell_type": "code",
   "execution_count": 27,
   "id": "de29d803",
   "metadata": {},
   "outputs": [
    {
     "data": {
      "text/plain": [
       "{'Black': 'Adjective', 'phone': 'noun'}"
      ]
     },
     "execution_count": 27,
     "metadata": {},
     "output_type": "execute_result"
    }
   ],
   "source": [
    "del word_pos[\"chair\"]\n",
    "word_pos"
   ]
  },
  {
   "cell_type": "code",
   "execution_count": 28,
   "id": "0399e4be",
   "metadata": {},
   "outputs": [
    {
     "data": {
      "text/plain": [
       "dict_keys(['a', 'b'])"
      ]
     },
     "execution_count": 28,
     "metadata": {},
     "output_type": "execute_result"
    }
   ],
   "source": [
    "d = {\"a\":1, \"b\":2}\n",
    "d.keys()"
   ]
  },
  {
   "cell_type": "code",
   "execution_count": 29,
   "id": "b5ec1741",
   "metadata": {},
   "outputs": [
    {
     "data": {
      "text/plain": [
       "dict_values([1, 2])"
      ]
     },
     "execution_count": 29,
     "metadata": {},
     "output_type": "execute_result"
    }
   ],
   "source": [
    "d.values()"
   ]
  },
  {
   "cell_type": "code",
   "execution_count": 30,
   "id": "18ba79df",
   "metadata": {},
   "outputs": [
    {
     "data": {
      "text/plain": [
       "dict_items([('a', 1), ('b', 2)])"
      ]
     },
     "execution_count": 30,
     "metadata": {},
     "output_type": "execute_result"
    }
   ],
   "source": [
    "d.items()"
   ]
  },
  {
   "cell_type": "code",
   "execution_count": 31,
   "id": "6716bb62",
   "metadata": {},
   "outputs": [
    {
     "data": {
      "text/plain": [
       "2"
      ]
     },
     "execution_count": 31,
     "metadata": {},
     "output_type": "execute_result"
    }
   ],
   "source": [
    "d.get(\"b\")"
   ]
  },
  {
   "cell_type": "code",
   "execution_count": 32,
   "id": "82ba1db4",
   "metadata": {},
   "outputs": [
    {
     "data": {
      "text/plain": [
       "1"
      ]
     },
     "execution_count": 32,
     "metadata": {},
     "output_type": "execute_result"
    }
   ],
   "source": [
    "d.pop(\"a\")"
   ]
  },
  {
   "cell_type": "code",
   "execution_count": null,
   "id": "ae8e3fe3",
   "metadata": {},
   "outputs": [],
   "source": []
  }
 ],
 "metadata": {
  "kernelspec": {
   "display_name": "Python 3",
   "language": "python",
   "name": "python3"
  },
  "language_info": {
   "codemirror_mode": {
    "name": "ipython",
    "version": 3
   },
   "file_extension": ".py",
   "mimetype": "text/x-python",
   "name": "python",
   "nbconvert_exporter": "python",
   "pygments_lexer": "ipython3",
   "version": "3.10.0"
  }
 },
 "nbformat": 4,
 "nbformat_minor": 5
}
