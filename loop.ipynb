{
 "cells": [
  {
   "cell_type": "code",
   "execution_count": 3,
   "id": "3a9be907",
   "metadata": {},
   "outputs": [],
   "source": [
    "text = \"this is some random text. here again we another text. Now this is sample text\"\n"
   ]
  },
  {
   "cell_type": "code",
   "execution_count": 4,
   "id": "7f5792f5",
   "metadata": {},
   "outputs": [
    {
     "data": {
      "text/plain": [
       "['this is some random text',\n",
       " ' here again we another text',\n",
       " ' Now this is sample text']"
      ]
     },
     "execution_count": 4,
     "metadata": {},
     "output_type": "execute_result"
    }
   ],
   "source": [
    "sentences = text.split(\".\")\n",
    "sentences"
   ]
  },
  {
   "cell_type": "code",
   "execution_count": 6,
   "id": "5d11b3a7",
   "metadata": {},
   "outputs": [
    {
     "data": {
      "text/plain": [
       "'this is some random text'"
      ]
     },
     "execution_count": 6,
     "metadata": {},
     "output_type": "execute_result"
    }
   ],
   "source": [
    "sentences[0]"
   ]
  },
  {
   "cell_type": "code",
   "execution_count": 5,
   "id": "b66c674b",
   "metadata": {},
   "outputs": [
    {
     "name": "stdout",
     "output_type": "stream",
     "text": [
      "this is some random text\n",
      "here again we another text\n",
      "Now this is sample text\n"
     ]
    }
   ],
   "source": [
    "for sentence in sentences:\n",
    "    print(sentence.strip())"
   ]
  },
  {
   "cell_type": "code",
   "execution_count": 11,
   "id": "71827bb6",
   "metadata": {},
   "outputs": [
    {
     "name": "stdout",
     "output_type": "stream",
     "text": [
      "this is some random text"
     ]
    }
   ],
   "source": [
    "for ch in sentences[0]:\n",
    "    print(ch, end=\"\")"
   ]
  },
  {
   "cell_type": "markdown",
   "id": "354b46b3",
   "metadata": {},
   "source": [
    "#### Tokens:\n",
    "token is the unit of text\n",
    "#### counting frequency of word\n"
   ]
  },
  {
   "cell_type": "code",
   "execution_count": 18,
   "id": "5ea8dfee",
   "metadata": {},
   "outputs": [
    {
     "name": "stdout",
     "output_type": "stream",
     "text": [
      "number of words longer than 4: 8\n"
     ]
    }
   ],
   "source": [
    "text = \"python makes natural language processing fun and powerful and high level language\"\n",
    "words = text.lower().split()\n",
    "\n",
    "count = 0\n",
    "\n",
    "for word in words:\n",
    "    if len(word) > 4:\n",
    "        count +=1\n",
    "print(\"number of words longer than 4:\", count)    "
   ]
  },
  {
   "cell_type": "code",
   "execution_count": 23,
   "id": "5b4d289f",
   "metadata": {},
   "outputs": [
    {
     "name": "stdout",
     "output_type": "stream",
     "text": [
      "{'python': 1, 'makes': 1, 'natural': 1, 'language': 2, 'processing': 1, 'fun': 1, 'and': 2, 'powerful': 1, 'high': 1, 'level': 1}\n",
      "()\n"
     ]
    }
   ],
   "source": [
    "## finding the frequency of words in a sentence\n",
    "text = \"python makes natural language processing fun and powerful and high level language\"\n",
    "words = text.lower().split()\n",
    "\n",
    "frequecny = {}\n",
    "tuple_frequency = ()\n",
    "for word in words:\n",
    "    #tuple_frequency(word) == frequecny.get(word, 0)\n",
    "    frequecny[word] =   frequecny.get(word, 0) + 1 \n",
    "    \n",
    "print(frequecny)\n",
    "print(tuple_frequency)"
   ]
  },
  {
   "cell_type": "markdown",
   "id": "92c5dd43",
   "metadata": {},
   "source": [
    "1. pashto language on research work\n",
    "no dataset\n",
    "2. applications\n",
    "bot on ghani khan poetry\n",
    "3. music generations using AI\n",
    "but the sound of Rabab\n",
    "4. we have list of password.. guessing password... if i know someone have 8 characters then will using brutforce model... to make different variations\n"
   ]
  },
  {
   "cell_type": "markdown",
   "id": "d33325d6",
   "metadata": {},
   "source": [
    "#### Range in for loop\n"
   ]
  },
  {
   "cell_type": "code",
   "execution_count": null,
   "id": "88d69f45",
   "metadata": {},
   "outputs": [],
   "source": []
  },
  {
   "cell_type": "code",
   "execution_count": null,
   "id": "ee565d79",
   "metadata": {},
   "outputs": [],
   "source": []
  },
  {
   "cell_type": "code",
   "execution_count": null,
   "id": "20b8e807",
   "metadata": {},
   "outputs": [],
   "source": []
  },
  {
   "cell_type": "code",
   "execution_count": null,
   "id": "8167632d",
   "metadata": {},
   "outputs": [],
   "source": []
  }
 ],
 "metadata": {
  "kernelspec": {
   "display_name": "Python 3",
   "language": "python",
   "name": "python3"
  },
  "language_info": {
   "codemirror_mode": {
    "name": "ipython",
    "version": 3
   },
   "file_extension": ".py",
   "mimetype": "text/x-python",
   "name": "python",
   "nbconvert_exporter": "python",
   "pygments_lexer": "ipython3",
   "version": "3.10.0"
  }
 },
 "nbformat": 4,
 "nbformat_minor": 5
}
