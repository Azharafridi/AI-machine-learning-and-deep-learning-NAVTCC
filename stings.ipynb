{
 "cells": [
  {
   "cell_type": "markdown",
   "id": "8a2b30e5",
   "metadata": {
    "vscode": {
     "languageId": "sql"
    }
   },
   "source": [
    "#### Strings \n"
   ]
  },
  {
   "cell_type": "code",
   "execution_count": 1,
   "id": "36aa40ab",
   "metadata": {},
   "outputs": [
    {
     "name": "stdout",
     "output_type": "stream",
     "text": [
      "this is some     text with unwanted   spaces    \n"
     ]
    }
   ],
   "source": [
    "sometext = \"this is some     text with unwanted   spaces    \" \n",
    "print(sometext)\n"
   ]
  },
  {
   "cell_type": "code",
   "execution_count": null,
   "id": "b2a4da82",
   "metadata": {},
   "outputs": [
    {
     "data": {
      "text/plain": [
       "'this is some     text with unwanted   spaces'"
      ]
     },
     "execution_count": 2,
     "metadata": {},
     "output_type": "execute_result"
    }
   ],
   "source": [
    "sometext.strip() ## remove starting and ending spaces"
   ]
  },
  {
   "cell_type": "code",
   "execution_count": 3,
   "id": "25db0640",
   "metadata": {},
   "outputs": [
    {
     "data": {
      "text/plain": [
       "'that is some     text with unwanted   spaces    '"
      ]
     },
     "execution_count": 3,
     "metadata": {},
     "output_type": "execute_result"
    }
   ],
   "source": [
    "sometext.replace(\"this\", \"that\") ## replace this with that\n"
   ]
  },
  {
   "cell_type": "code",
   "execution_count": 5,
   "id": "2a90ca0f",
   "metadata": {},
   "outputs": [
    {
     "data": {
      "text/plain": [
       "['this', 'is', 'some', 'text', 'with', 'unwanted', 'spaces']"
      ]
     },
     "execution_count": 5,
     "metadata": {},
     "output_type": "execute_result"
    }
   ],
   "source": [
    "sometext.split() ## split into words considering the empty space as splitting point\n",
    "# if we not pass any parameter\n",
    "\n"
   ]
  },
  {
   "cell_type": "code",
   "execution_count": 9,
   "id": "2a3cffca",
   "metadata": {},
   "outputs": [
    {
     "name": "stdout",
     "output_type": "stream",
     "text": [
      "['Today is 10th april', ' And it is scortching today', ' Drink water', ' ']\n"
     ]
    }
   ],
   "source": [
    "sentences = \"Today is 10th april. And it is scortching today. Drink water. \".split(\".\") ## now split with fullstop\n",
    "print(sentences)\n"
   ]
  },
  {
   "cell_type": "code",
   "execution_count": 10,
   "id": "343c4d2c",
   "metadata": {},
   "outputs": [
    {
     "data": {
      "text/plain": [
       "['Today', 'is', '10th', 'april']"
      ]
     },
     "execution_count": 10,
     "metadata": {},
     "output_type": "execute_result"
    }
   ],
   "source": [
    "sentences[0].split()"
   ]
  },
  {
   "cell_type": "code",
   "execution_count": null,
   "id": "6cd9e728",
   "metadata": {},
   "outputs": [
    {
     "data": {
      "text/plain": [
       "'helloworld'"
      ]
     },
     "execution_count": 13,
     "metadata": {},
     "output_type": "execute_result"
    }
   ],
   "source": [
    "'hello' + 'world' "
   ]
  },
  {
   "cell_type": "code",
   "execution_count": 11,
   "id": "c6198e83",
   "metadata": {},
   "outputs": [
    {
     "name": "stdout",
     "output_type": "stream",
     "text": [
      "[1, 2, 3, 4, 5, 5.5]\n"
     ]
    }
   ],
   "source": [
    "my_list = [1,2,3,4,5, 5.5]\n",
    "print(my_list)"
   ]
  },
  {
   "cell_type": "code",
   "execution_count": 12,
   "id": "9d1b4ecd",
   "metadata": {},
   "outputs": [
    {
     "name": "stdout",
     "output_type": "stream",
     "text": [
      "[1, 2, 3, 4, 5, 5.5, 7]\n"
     ]
    }
   ],
   "source": [
    "my_list.append(7)\n",
    "print(my_list)"
   ]
  },
  {
   "cell_type": "code",
   "execution_count": 16,
   "id": "c59772a6",
   "metadata": {},
   "outputs": [
    {
     "name": "stdout",
     "output_type": "stream",
     "text": [
      "['peshawar', 'islamabad', 3, 4.75837, 'mardan', 'c']\n"
     ]
    }
   ],
   "source": [
    "cities = ['peshawar', 'islamabad', 3, 4.75837, 'c']\n",
    "cities.insert(-1, 'mardan')\n",
    "print(cities)"
   ]
  },
  {
   "cell_type": "markdown",
   "id": "046b6e89",
   "metadata": {},
   "source": [
    "### TASK 1:  Favorite movie List\n",
    "Objective: Practice creating, accessing, and modifying lists.\n",
    "#### instructions:\n",
    "1. create a list named favorite_movies with at least"
   ]
  },
  {
   "cell_type": "code",
   "execution_count": null,
   "id": "0aa41986",
   "metadata": {},
   "outputs": [],
   "source": []
  },
  {
   "cell_type": "code",
   "execution_count": null,
   "id": "3b5cf941",
   "metadata": {},
   "outputs": [
    {
     "name": "stdout",
     "output_type": "stream",
     "text": [
      "first movie name =  dangal\n",
      "last movie name =  bakhtako\n",
      "['fast and furous', 'JULLY LLB1', 'kabir singh', 'sing is big', 'bakhtako', 'JULLY LLB2']\n"
     ]
    }
   ],
   "source": [
    "favorite_movies = ['dangal', 'fast and furous', 'kabir singh', 'sing is big', 'bakhtako']\n",
    "print('first movie name = ',favorite_movies[0])\n",
    "print('last movie name = ', favorite_movies[-1])\n",
    "favorite_movies.insert(2, 'JULLY LLB1')\n",
    "favorite_movies.append('JULLY LLB2')\n",
    "favorite_movies.pop(0)\n",
    "print(favorite_movies)\n"
   ]
  },
  {
   "cell_type": "markdown",
   "id": "ab1b553d",
   "metadata": {},
   "source": [
    "### TASK 2\n",
    "#### instructions\n",
    "1. create a list numbers with at least 7 numbers\n",
    "2. find and print:\n",
    "    a. the maximum number\n",
    "    b. the minimum number\n",
    "    c. the average (hint:)\n"
   ]
  },
  {
   "cell_type": "code",
   "execution_count": 34,
   "id": "f02e4bc1",
   "metadata": {},
   "outputs": [
    {
     "name": "stdout",
     "output_type": "stream",
     "text": [
      "maximum =  38\n",
      "minimum =  1\n",
      "the average number is :  13.714285714285714\n",
      "the list in ascending order: [1, 4, 7, 8, 9, 29, 38]\n",
      "the list in descending order: [38, 29, 9, 8, 7, 4, 1]\n"
     ]
    }
   ],
   "source": [
    "numbers = [4,29,38,7,1,8,9]\n",
    "maximum = numbers[0]\n",
    "minimum = numbers[0]\n",
    "\n",
    "for i in range(len(numbers)):\n",
    "    if (numbers[i] > maximum):\n",
    "        maximum = numbers[i]\n",
    "for i in range(len(numbers)):\n",
    "    if (numbers[i] < minimum):\n",
    "        minimum = numbers[i] \n",
    "print(\"maximum = \", maximum)\n",
    "print(\"minimum = \", minimum)\n",
    "avg = sum(numbers)/len(numbers)\n",
    "print('the average number is : ', avg)\n",
    "numbers.sort()\n",
    "print(\"the list in ascending order:\", numbers)\n",
    "print(\"the list in descending order:\", numbers[::-1])\n",
    "\n"
   ]
  },
  {
   "cell_type": "markdown",
   "id": "c49cafd2",
   "metadata": {},
   "source": [
    "### TASK 3\n",
    "#### instructons:\n",
    "    1. Create a variable called text and store this sentence\n",
    "    2. text = \"Hello there! I'm learning Python for NLP. It's exciting isn't it?\"\n",
    "    3. Perform the following operations:\n",
    "        a. Convert all characters to lowercase\n",
    "        b. Remove punctions(!.,'?)\n",
    "            (Hint: use replace or re module)\n",
    "        c. Split the sentence into words using split()\n",
    "        d. Count how many words are in the sentence\n",
    "        e. Replace the word \"python\" with \"Natural Language Processing\"\n",
    "    4. Print the cleaned sentence and the final word list."
   ]
  },
  {
   "cell_type": "code",
   "execution_count": 38,
   "id": "a6afd0b6",
   "metadata": {},
   "outputs": [
    {
     "name": "stdout",
     "output_type": "stream",
     "text": [
      "hello there im learning Natural Language Processing for nlp its exciting isnt it\n",
      "['hello', 'there', 'im', 'learning', 'Natural', 'Language', 'Processing', 'for', 'nlp', 'its', 'exciting', 'isnt', 'it']\n"
     ]
    }
   ],
   "source": [
    "text = \"Hello there! I'm learning Python for NLP. It's exciting isn't it?\"\n",
    "lower_text = text.lower()\n",
    "\n",
    "# remove punctuations\n",
    "import re\n",
    "clean_text = re.sub(r'[^\\w\\s]', '', lower_text)\n",
    "#print(clean_text)\n",
    "\n",
    "# splitting into words\n",
    "words = clean_text.split()\n",
    "#print(words)\n",
    "\n",
    "# count number of words are there in the sentence\n",
    "num_words = len(words)\n",
    "#print(\"total number of words are : \", num_words)\n",
    "\n",
    "# replace python with Natural Language Processing\n",
    "replaced_text = clean_text.replace(\"python\", \"Natural Language Processing\")\n",
    "print(replaced_text)\n",
    "words = replaced_text.split()\n",
    "print(words)\n",
    "\n"
   ]
  }
 ],
 "metadata": {
  "kernelspec": {
   "display_name": "Python 3",
   "language": "python",
   "name": "python3"
  },
  "language_info": {
   "codemirror_mode": {
    "name": "ipython",
    "version": 3
   },
   "file_extension": ".py",
   "mimetype": "text/x-python",
   "name": "python",
   "nbconvert_exporter": "python",
   "pygments_lexer": "ipython3",
   "version": "3.10.0"
  }
 },
 "nbformat": 4,
 "nbformat_minor": 5
}
