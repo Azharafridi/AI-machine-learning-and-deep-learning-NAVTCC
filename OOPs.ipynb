{
 "cells": [
  {
   "cell_type": "markdown",
   "id": "70027442",
   "metadata": {},
   "source": [
    "### OOP\n"
   ]
  },
  {
   "cell_type": "code",
   "execution_count": 14,
   "id": "692829a7",
   "metadata": {},
   "outputs": [],
   "source": [
    "class Car:\n",
    "    def horn(self): ## self refer to the object that made and call it like below \"c\" is used\n",
    "        print(\"BEEEEEEEEEPPPPPPPPPP\")\n",
    "\n",
    "    def truckHorn(self):\n",
    "        print(\"ajdskghkj fasdjfkad fakdsjfa\")\n",
    "    \n",
    "    def make(self, name):\n",
    "        print(f\"this is a {name} Car\")\n",
    "        return 1"
   ]
  },
  {
   "cell_type": "code",
   "execution_count": null,
   "id": "3e70a91c",
   "metadata": {},
   "outputs": [],
   "source": []
  },
  {
   "cell_type": "code",
   "execution_count": 16,
   "id": "95a60d45",
   "metadata": {},
   "outputs": [],
   "source": [
    "c = Car()"
   ]
  },
  {
   "cell_type": "code",
   "execution_count": 18,
   "id": "3548d031",
   "metadata": {},
   "outputs": [
    {
     "name": "stdout",
     "output_type": "stream",
     "text": [
      "this is a Mercedez Car\n"
     ]
    },
    {
     "data": {
      "text/plain": [
       "1"
      ]
     },
     "execution_count": 18,
     "metadata": {},
     "output_type": "execute_result"
    }
   ],
   "source": [
    "name = c.make(\"Mercedez\")\n",
    "name"
   ]
  },
  {
   "cell_type": "markdown",
   "id": "9974347a",
   "metadata": {},
   "source": [
    "Create a book management system in library,.\n",
    "ther are racks in the librarya and books are organized \n",
    "by their theme.\n",
    "Users can find books by name, index or langauge.\n",
    "librarian can add more books to the library.\n",
    "nouns = class\n",
    "adjectives = attributes\n",
    "verbs = function"
   ]
  },
  {
   "cell_type": "markdown",
   "id": "ffb34cf9",
   "metadata": {},
   "source": [
    "create class\n",
    "create object\n",
    "call funtion with parameters\n",
    "return list, tuple, dict from function"
   ]
  },
  {
   "cell_type": "code",
   "execution_count": null,
   "id": "3dfd0381",
   "metadata": {},
   "outputs": [
    {
     "name": "stdout",
     "output_type": "stream",
     "text": [
      "Hello my name is azhar\n",
      "Hello my age is 18\n"
     ]
    }
   ],
   "source": [
    "\n",
    "class Person:\n",
    "#   def __init__(self, name, age):\n",
    "#     self.name = name\n",
    "#     self.age = age\n",
    "\n",
    "    def per_name(self, name):\n",
    "        self.name = name\n",
    "        print(\"Hello my name is \" + self.name)\n",
    "\n",
    "    def per_age(self, age):\n",
    "        self.age = age\n",
    "        print(\"Hello my age is \" + str(self.age))\n",
    "\n",
    "    def return_data(self, name, age):\n",
    "      list = [name, age]\n",
    "      dict = {\"name\": name, \"age\": age}\n",
    "      tuple = (name, age)\n",
    "      return list\n",
    "    \n",
    "    \n",
    "\n",
    "\n",
    "P1 = Person()\n",
    "\n",
    "name = input(\"enter you name\")\n",
    "age = int(input(\"enter your age\"))\n",
    "\n",
    "P1.per_name(name)\n",
    "P1.per_age(age)\n",
    "\n",
    "\n",
    "\n",
    "\n",
    "\n"
   ]
  },
  {
   "cell_type": "code",
   "execution_count": 1,
   "id": "6a9b16c5",
   "metadata": {},
   "outputs": [
    {
     "data": {
      "text/plain": [
       "[(1, 4, 7), (2, 5, 8), (3, 6, 9)]"
      ]
     },
     "execution_count": 1,
     "metadata": {},
     "output_type": "execute_result"
    }
   ],
   "source": [
    "list(zip([1,2,3], [4,5,6], [7,8,9]))"
   ]
  },
  {
   "cell_type": "markdown",
   "id": "5fb42aa8",
   "metadata": {},
   "source": [
    "#### Construction And Destructor"
   ]
  },
  {
   "cell_type": "code",
   "execution_count": null,
   "id": "0fb6a48a",
   "metadata": {},
   "outputs": [],
   "source": [
    "class Tokenizer:\n",
    "    def __init__(self, text):\n",
    "        self.text = text ## gobal variable.. and we can create everywhere \n",
    "        print(\"construction called\")\n",
    "\n",
    "    \n",
    "    def get_sentences(self, text):\n",
    "        return text.split(\".\")\n",
    "    \n",
    "    def create_global_variable(self):\n",
    "        self.pi = 3.14 ## global variable.. we have first to call this function and then we can use it\n",
    "        ## otherwise will not work well this\n",
    "    \n",
    "    def get_words(self, senetnces):\n",
    "        words = []\n",
    "        for s in senetnces:\n",
    "            words.extend(s.split(\" \"))\n",
    "        return words\n",
    "        \n",
    "    \n",
    "    def get_characters(self, text):\n",
    "        characters = []\n",
    "        for w in text:\n",
    "            characters.append(list(w))\n",
    "        return characters\n",
    "    \n"
   ]
  },
  {
   "cell_type": "code",
   "execution_count": 4,
   "id": "c36584a3",
   "metadata": {},
   "outputs": [],
   "source": [
    "text = \"this is some sentence of NLP. NLP is important for GenAI. AS important is python for machine learning.\""
   ]
  },
  {
   "cell_type": "code",
   "execution_count": 5,
   "id": "cb0f0cc5",
   "metadata": {},
   "outputs": [
    {
     "name": "stdout",
     "output_type": "stream",
     "text": [
      "construction called\n"
     ]
    }
   ],
   "source": [
    "t = Tokenizer(text)\n"
   ]
  },
  {
   "cell_type": "code",
   "execution_count": 6,
   "id": "5499a705",
   "metadata": {},
   "outputs": [
    {
     "data": {
      "text/plain": [
       "['this is some sentence of NLP',\n",
       " ' NLP is important for GenAI',\n",
       " ' AS important is python for machine learning',\n",
       " '']"
      ]
     },
     "execution_count": 6,
     "metadata": {},
     "output_type": "execute_result"
    }
   ],
   "source": [
    "t.get_sentences(text)"
   ]
  },
  {
   "cell_type": "code",
   "execution_count": 7,
   "id": "57221e03",
   "metadata": {},
   "outputs": [
    {
     "data": {
      "text/plain": [
       "['this',\n",
       " 'is',\n",
       " 'some',\n",
       " 'sentence',\n",
       " 'of',\n",
       " 'NLP',\n",
       " '',\n",
       " 'NLP',\n",
       " 'is',\n",
       " 'important',\n",
       " 'for',\n",
       " 'GenAI',\n",
       " '',\n",
       " 'AS',\n",
       " 'important',\n",
       " 'is',\n",
       " 'python',\n",
       " 'for',\n",
       " 'machine',\n",
       " 'learning',\n",
       " '']"
      ]
     },
     "execution_count": 7,
     "metadata": {},
     "output_type": "execute_result"
    }
   ],
   "source": [
    "t.get_words(t.get_sentences(text))"
   ]
  },
  {
   "cell_type": "code",
   "execution_count": 8,
   "id": "7c34d2fe",
   "metadata": {},
   "outputs": [
    {
     "data": {
      "text/plain": [
       "[['t', 'h', 'i', 's'],\n",
       " ['i', 's'],\n",
       " ['s', 'o', 'm', 'e'],\n",
       " ['s', 'e', 'n', 't', 'e', 'n', 'c', 'e'],\n",
       " ['o', 'f'],\n",
       " ['N', 'L', 'P'],\n",
       " [],\n",
       " ['N', 'L', 'P'],\n",
       " ['i', 's'],\n",
       " ['i', 'm', 'p', 'o', 'r', 't', 'a', 'n', 't'],\n",
       " ['f', 'o', 'r'],\n",
       " ['G', 'e', 'n', 'A', 'I'],\n",
       " [],\n",
       " ['A', 'S'],\n",
       " ['i', 'm', 'p', 'o', 'r', 't', 'a', 'n', 't'],\n",
       " ['i', 's'],\n",
       " ['p', 'y', 't', 'h', 'o', 'n'],\n",
       " ['f', 'o', 'r'],\n",
       " ['m', 'a', 'c', 'h', 'i', 'n', 'e'],\n",
       " ['l', 'e', 'a', 'r', 'n', 'i', 'n', 'g'],\n",
       " []]"
      ]
     },
     "execution_count": 8,
     "metadata": {},
     "output_type": "execute_result"
    }
   ],
   "source": [
    "t.get_characters(t.get_words(t.get_sentences(text)))"
   ]
  },
  {
   "cell_type": "code",
   "execution_count": 6,
   "id": "df7b39c9",
   "metadata": {},
   "outputs": [
    {
     "name": "stdout",
     "output_type": "stream",
     "text": [
      "BEEEEEEEEEPPPPPPPPPP\n"
     ]
    }
   ],
   "source": [
    "Car.horn(c)"
   ]
  },
  {
   "cell_type": "code",
   "execution_count": 5,
   "id": "855d676a",
   "metadata": {},
   "outputs": [
    {
     "name": "stdout",
     "output_type": "stream",
     "text": [
      "BEEEEEEEEEPPPPPPPPPP\n"
     ]
    }
   ],
   "source": [
    "c.horn()"
   ]
  },
  {
   "cell_type": "markdown",
   "id": "52f35608",
   "metadata": {},
   "source": [
    "### private, public and protected "
   ]
  },
  {
   "cell_type": "code",
   "execution_count": null,
   "id": "5dc304b9",
   "metadata": {},
   "outputs": [],
   "source": [
    "class Tokenizer:\n",
    "    def __init__(self, text):\n",
    "        self.__text = text ## gobal variable.. and we can create everywhere \n",
    "        print(\"construction called\")\n",
    "    \n",
    "    def create_global_variable(self):\n",
    "        self.pi = 3.14 ## global variable.. we have first to call this function and then we can use it\n",
    "    ## otherwise will not work well this\n",
    "\n",
    "    def print_text(self): \n",
    "        print(self.__text)\n",
    "\n",
    "    def get_text(self): ## getter\n",
    "        self.__text = text\n",
    "        \n",
    "    def set_text(self, text): ## setter\n",
    "        self.__text = text\n",
    "\n",
    "\n",
    "    def get_sentences(self, text):\n",
    "        return text.split(\".\")\n",
    "    \n",
    "    \n",
    "    def get_words(self, senetnces):\n",
    "        words = []\n",
    "        for s in senetnces:\n",
    "            words.extend(s.split(\" \"))\n",
    "        return words\n",
    "        \n",
    "    \n",
    "    def get_characters(self, text):\n",
    "        characters = []\n",
    "        for w in text:\n",
    "            characters.append(list(w))\n",
    "        return characters\n",
    "    \n"
   ]
  },
  {
   "cell_type": "markdown",
   "id": "b272263b",
   "metadata": {},
   "source": [
    "### Inheritance"
   ]
  },
  {
   "cell_type": "code",
   "execution_count": 16,
   "id": "b367d8da",
   "metadata": {},
   "outputs": [],
   "source": [
    "## protected and public attributes are inherited inot child class\n",
    "\n",
    "\n",
    "class Vehicle:\n",
    "    def __init__(self, model):\n",
    "        self._model = model\n",
    "        self.__chesess_number = \"14245\"\n",
    "    \n",
    "    def get_chesess_number(self):\n",
    "        return self.__chesess_number\n",
    "        \n",
    "\n"
   ]
  },
  {
   "cell_type": "code",
   "execution_count": 17,
   "id": "23c01e07",
   "metadata": {},
   "outputs": [],
   "source": [
    "class Car(Vehicle):\n",
    "    def __init__(self, model):\n",
    "        super().__init__(model) ## parent constructor call is mondatory\n",
    "\n",
    "    \n",
    "    def model_name(self):\n",
    "        print(self._model)\n",
    "    def chesess_number(self):\n",
    "        print(self.get_chesess_number())\n"
   ]
  },
  {
   "cell_type": "markdown",
   "id": "a07b8139",
   "metadata": {},
   "source": [
    "both parent and child class have variable name _model... \n",
    "when we call it from object.. then it call the child class value so how to call the parent class _model\n",
    "variable..."
   ]
  },
  {
   "cell_type": "code",
   "execution_count": 18,
   "id": "cd2be176",
   "metadata": {},
   "outputs": [
    {
     "name": "stdout",
     "output_type": "stream",
     "text": [
      "Mercedez\n"
     ]
    }
   ],
   "source": [
    "car = Car(\"Mercedez\")\n",
    "car.model_name()"
   ]
  },
  {
   "cell_type": "code",
   "execution_count": 19,
   "id": "4bacb089",
   "metadata": {},
   "outputs": [
    {
     "name": "stdout",
     "output_type": "stream",
     "text": [
      "14245\n"
     ]
    }
   ],
   "source": [
    "car.chesess_number()"
   ]
  },
  {
   "cell_type": "code",
   "execution_count": 20,
   "id": "29436132",
   "metadata": {},
   "outputs": [],
   "source": [
    "class P:\n",
    "    def __init__(self):\n",
    "        self.class_name = \"P Class\"\n",
    "        "
   ]
  },
  {
   "cell_type": "code",
   "execution_count": 21,
   "id": "fa036010",
   "metadata": {},
   "outputs": [],
   "source": [
    "class Q:\n",
    "    def __init__(self):\n",
    "        self.class_name = \"Q Class\"\n",
    "        "
   ]
  },
  {
   "cell_type": "code",
   "execution_count": 29,
   "id": "bd881af9",
   "metadata": {},
   "outputs": [],
   "source": [
    "class C(P, Q):\n",
    "    def __init__(self):\n",
    "        self.class_name = \"C Class\""
   ]
  },
  {
   "cell_type": "code",
   "execution_count": 30,
   "id": "8f0b1291",
   "metadata": {},
   "outputs": [
    {
     "name": "stdout",
     "output_type": "stream",
     "text": [
      "C Class\n"
     ]
    }
   ],
   "source": [
    "c = C()\n",
    "print(c.class_name)"
   ]
  },
  {
   "cell_type": "code",
   "execution_count": null,
   "id": "c4fae3cc",
   "metadata": {},
   "outputs": [
    {
     "data": {
      "text/plain": [
       "(__main__.C, __main__.P, __main__.Q, object)"
      ]
     },
     "execution_count": 33,
     "metadata": {},
     "output_type": "execute_result"
    }
   ],
   "source": [
    "C.__mro__ ### so assigment "
   ]
  }
 ],
 "metadata": {
  "kernelspec": {
   "display_name": "Python 3",
   "language": "python",
   "name": "python3"
  },
  "language_info": {
   "codemirror_mode": {
    "name": "ipython",
    "version": 3
   },
   "file_extension": ".py",
   "mimetype": "text/x-python",
   "name": "python",
   "nbconvert_exporter": "python",
   "pygments_lexer": "ipython3",
   "version": "3.10.0"
  }
 },
 "nbformat": 4,
 "nbformat_minor": 5
}
