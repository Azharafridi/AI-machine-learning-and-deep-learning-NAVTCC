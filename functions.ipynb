{
 "cells": [
  {
   "cell_type": "markdown",
   "id": "b15fe987",
   "metadata": {},
   "source": [
    "#### WEek 2 Day 1"
   ]
  },
  {
   "cell_type": "code",
   "execution_count": null,
   "id": "869acd26",
   "metadata": {},
   "outputs": [],
   "source": []
  },
  {
   "cell_type": "code",
   "execution_count": 5,
   "id": "557bc478",
   "metadata": {},
   "outputs": [
    {
     "name": "stdout",
     "output_type": "stream",
     "text": [
      "['eman', 'khattak', 'datascientist']\n"
     ]
    }
   ],
   "source": [
    "def ask_input():\n",
    "    user_input = []\n",
    "    for i in range(3):\n",
    "        user_input.append(input(\"enter a word in english\"))\n",
    "    print(user_input)    \n",
    "ask_input()\n",
    "\n"
   ]
  },
  {
   "cell_type": "code",
   "execution_count": 14,
   "id": "856b62e4",
   "metadata": {},
   "outputs": [],
   "source": [
    "## variable length arugument\n",
    "def addition(*args):\n",
    "    print(args)\n",
    "    print(type(args))\n",
    "    print(len(args))\n",
    "    return sum(args)"
   ]
  },
  {
   "cell_type": "code",
   "execution_count": 15,
   "id": "150dd125",
   "metadata": {},
   "outputs": [
    {
     "name": "stdout",
     "output_type": "stream",
     "text": [
      "(12, 4, 5, 3)\n",
      "<class 'tuple'>\n",
      "4\n"
     ]
    },
    {
     "data": {
      "text/plain": [
       "24"
      ]
     },
     "execution_count": 15,
     "metadata": {},
     "output_type": "execute_result"
    }
   ],
   "source": [
    "addition(12,4,5,3)"
   ]
  },
  {
   "cell_type": "code",
   "execution_count": 16,
   "id": "d694ab8f",
   "metadata": {},
   "outputs": [
    {
     "name": "stdout",
     "output_type": "stream",
     "text": [
      "(23, 5, 6, 6, 77, 8, 88, 7, 4)\n",
      "<class 'tuple'>\n",
      "9\n"
     ]
    },
    {
     "data": {
      "text/plain": [
       "224"
      ]
     },
     "execution_count": 16,
     "metadata": {},
     "output_type": "execute_result"
    }
   ],
   "source": [
    "addition(23,5,6,6,77,8,88,7,4)"
   ]
  },
  {
   "cell_type": "code",
   "execution_count": 20,
   "id": "702e8cbd",
   "metadata": {},
   "outputs": [],
   "source": [
    "## variable length keyword arugument\n",
    "## variable length arugument\n",
    "def addition(x1,x2, *args,**kargs):\n",
    "    print(kargs)\n",
    "    print('args',args)\n",
    "    print(type(kargs))\n",
    "    print('kargs', kargs)\n",
    "    print(len(kargs))\n",
    "    return sum(args)"
   ]
  },
  {
   "cell_type": "code",
   "execution_count": null,
   "id": "cfa2381e",
   "metadata": {},
   "outputs": [],
   "source": []
  },
  {
   "cell_type": "code",
   "execution_count": 18,
   "id": "09ad7443",
   "metadata": {},
   "outputs": [
    {
     "name": "stdout",
     "output_type": "stream",
     "text": [
      "{'name': 'azhar', 'age': 20}\n",
      "<class 'dict'>\n",
      "kargs {'name': 'azhar', 'age': 20}\n",
      "2\n"
     ]
    },
    {
     "data": {
      "text/plain": [
       "19"
      ]
     },
     "execution_count": 18,
     "metadata": {},
     "output_type": "execute_result"
    }
   ],
   "source": [
    "addition(24,5,6,6,7,name = 'azhar', age = 20)"
   ]
  },
  {
   "cell_type": "code",
   "execution_count": 26,
   "id": "6317a6c3",
   "metadata": {},
   "outputs": [],
   "source": [
    "def getFive(*args):\n",
    "    for value in args:\n",
    "        if value == 5:\n",
    "            return 5\n",
    "    else:\n",
    "        return 0\n",
    "    print(\"hello\")"
   ]
  },
  {
   "cell_type": "code",
   "execution_count": null,
   "id": "e03a135a",
   "metadata": {},
   "outputs": [],
   "source": []
  },
  {
   "cell_type": "code",
   "execution_count": 27,
   "id": "b261d626",
   "metadata": {},
   "outputs": [
    {
     "data": {
      "text/plain": [
       "5"
      ]
     },
     "execution_count": 27,
     "metadata": {},
     "output_type": "execute_result"
    }
   ],
   "source": [
    "getFive(1,3,8,5)"
   ]
  },
  {
   "cell_type": "code",
   "execution_count": 28,
   "id": "8dbf4a2f",
   "metadata": {},
   "outputs": [],
   "source": [
    "def getMulitValue():\n",
    "    return {\"x\":10, \"y\":12}"
   ]
  },
  {
   "cell_type": "code",
   "execution_count": 29,
   "id": "d3b495ae",
   "metadata": {},
   "outputs": [
    {
     "data": {
      "text/plain": [
       "{'x': 10, 'y': 12}"
      ]
     },
     "execution_count": 29,
     "metadata": {},
     "output_type": "execute_result"
    }
   ],
   "source": [
    "getMulitValue()"
   ]
  },
  {
   "cell_type": "markdown",
   "id": "9249b5b7",
   "metadata": {},
   "source": [
    "#### Markdown\n",
    "It's main use is in map() and filter()\n",
    "anonymous function without name"
   ]
  },
  {
   "cell_type": "code",
   "execution_count": 1,
   "id": "effeca62",
   "metadata": {},
   "outputs": [
    {
     "data": {
      "text/plain": [
       "16"
      ]
     },
     "execution_count": 1,
     "metadata": {},
     "output_type": "execute_result"
    }
   ],
   "source": [
    "def square(x):\n",
    "    return x*x\n",
    "square(4)"
   ]
  },
  {
   "cell_type": "code",
   "execution_count": 2,
   "id": "52f28ab6",
   "metadata": {},
   "outputs": [
    {
     "data": {
      "text/plain": [
       "16"
      ]
     },
     "execution_count": 2,
     "metadata": {},
     "output_type": "execute_result"
    }
   ],
   "source": [
    "##  now same function above using lambda function\n",
    "square = lambda x: x*x\n",
    "square(4)"
   ]
  },
  {
   "cell_type": "code",
   "execution_count": 3,
   "id": "71bc5921",
   "metadata": {},
   "outputs": [
    {
     "data": {
      "text/plain": [
       "8"
      ]
     },
     "execution_count": 3,
     "metadata": {},
     "output_type": "execute_result"
    }
   ],
   "source": [
    "## mulitple arugument lambda function\n",
    "callback = lambda x, y: x**y\n",
    "callback(2,3)"
   ]
  },
  {
   "cell_type": "code",
   "execution_count": 4,
   "id": "b7b4038b",
   "metadata": {},
   "outputs": [
    {
     "name": "stdout",
     "output_type": "stream",
     "text": [
      "lahore\n",
      "None\n"
     ]
    }
   ],
   "source": [
    "## it always return something\n",
    "city_callback = lambda city: print(city)\n",
    "print(city_callback('lahore'))"
   ]
  },
  {
   "cell_type": "code",
   "execution_count": 5,
   "id": "2a6a332c",
   "metadata": {},
   "outputs": [
    {
     "name": "stdout",
     "output_type": "stream",
     "text": [
      "lahore\n",
      "None\n"
     ]
    }
   ],
   "source": [
    "# when we print the print function it returns none\n",
    "city_callback = lambda city: print(city)\n",
    "print(city_callback('lahore'))"
   ]
  },
  {
   "cell_type": "code",
   "execution_count": 6,
   "id": "4b55f466",
   "metadata": {},
   "outputs": [
    {
     "data": {
      "text/plain": [
       "{'input': 8, 'square': 64}"
      ]
     },
     "execution_count": 6,
     "metadata": {},
     "output_type": "execute_result"
    }
   ],
   "source": [
    "multiple_values = lambda x : {\"input\":x, \"square\":x**2}\n",
    "multiple_values(8)"
   ]
  },
  {
   "cell_type": "code",
   "execution_count": 7,
   "id": "8f3e2bf7",
   "metadata": {},
   "outputs": [
    {
     "data": {
      "text/plain": [
       "(8, 64)"
      ]
     },
     "execution_count": 7,
     "metadata": {},
     "output_type": "execute_result"
    }
   ],
   "source": [
    "multiple_values = lambda y:  (y, y**2)\n",
    "multiple_values(8)\n"
   ]
  },
  {
   "cell_type": "markdown",
   "id": "1b589ffb",
   "metadata": {},
   "source": [
    "#### callback function\n",
    "a function passed into another function as an argument, which is then \n",
    "invoked inside the outer function to complete some kind of routine or action\n",
    "1. it's very usefull ... so spend time on it "
   ]
  },
  {
   "cell_type": "code",
   "execution_count": 8,
   "id": "0c3248f1",
   "metadata": {},
   "outputs": [],
   "source": [
    "def somedifficultFunction(range_end, callback):\n",
    "    for i in range(range_end):\n",
    "        print(f\"i = {i}\")\n",
    "    print(type(callback)) ## make sure the callback i callable\n",
    "    if callable(callback):\n",
    "        callback()"
   ]
  },
  {
   "cell_type": "code",
   "execution_count": 9,
   "id": "196bc80f",
   "metadata": {},
   "outputs": [
    {
     "name": "stdout",
     "output_type": "stream",
     "text": [
      "i = 0\n",
      "i = 1\n",
      "i = 2\n",
      "i = 3\n",
      "i = 4\n",
      "<class 'function'>\n",
      "function completed\n"
     ]
    }
   ],
   "source": [
    "somedifficultFunction(5, lambda: print(\"function completed\"))\n"
   ]
  },
  {
   "cell_type": "code",
   "execution_count": null,
   "id": "c0d61418",
   "metadata": {},
   "outputs": [],
   "source": []
  },
  {
   "cell_type": "code",
   "execution_count": 10,
   "id": "a65ddd94",
   "metadata": {},
   "outputs": [
    {
     "data": {
      "text/plain": [
       "True"
      ]
     },
     "execution_count": 10,
     "metadata": {},
     "output_type": "execute_result"
    }
   ],
   "source": [
    "callable(callback)"
   ]
  },
  {
   "cell_type": "code",
   "execution_count": 11,
   "id": "646dbc2f",
   "metadata": {},
   "outputs": [
    {
     "data": {
      "text/plain": [
       "False"
      ]
     },
     "execution_count": 11,
     "metadata": {},
     "output_type": "execute_result"
    }
   ],
   "source": [
    "callable(10)"
   ]
  },
  {
   "cell_type": "code",
   "execution_count": 12,
   "id": "38301e31",
   "metadata": {},
   "outputs": [
    {
     "name": "stdout",
     "output_type": "stream",
     "text": [
      "hello\n"
     ]
    }
   ],
   "source": [
    "def first_function():\n",
    "    print(\"hello\")\n",
    "\n",
    "def second_function():\n",
    "    return first_function()\n",
    "\n",
    "second_function()"
   ]
  },
  {
   "cell_type": "code",
   "execution_count": 13,
   "id": "51b69056",
   "metadata": {},
   "outputs": [
    {
     "data": {
      "text/plain": [
       "False"
      ]
     },
     "execution_count": 13,
     "metadata": {},
     "output_type": "execute_result"
    }
   ],
   "source": [
    "callable(\"abdfakjd\")"
   ]
  },
  {
   "cell_type": "markdown",
   "id": "a261426b",
   "metadata": {},
   "source": [
    "#### Map() Filter()\n",
    "map function do just change the representation of values but point to the same point\n",
    "filter function input and output size are always different\n",
    " "
   ]
  },
  {
   "cell_type": "code",
   "execution_count": 16,
   "id": "be3d345d",
   "metadata": {},
   "outputs": [],
   "source": [
    "values = [2,4,6]\n"
   ]
  },
  {
   "cell_type": "code",
   "execution_count": 17,
   "id": "d69f9d6d",
   "metadata": {},
   "outputs": [
    {
     "name": "stdout",
     "output_type": "stream",
     "text": [
      "4\n",
      "8\n",
      "12\n"
     ]
    }
   ],
   "source": [
    "new_values = map(lambda x: x*2,values)\n",
    "#print(list(new_values))\n",
    "for v in new_values:\n",
    "    print(v)\n"
   ]
  },
  {
   "cell_type": "code",
   "execution_count": 19,
   "id": "a4ef5dc5",
   "metadata": {},
   "outputs": [
    {
     "data": {
      "text/plain": [
       "[]"
      ]
     },
     "execution_count": 19,
     "metadata": {},
     "output_type": "execute_result"
    }
   ],
   "source": [
    "list(new_values)\n"
   ]
  },
  {
   "cell_type": "code",
   "execution_count": null,
   "id": "497b7bbf",
   "metadata": {},
   "outputs": [],
   "source": [
    "passwords = ['a','abc' ,'ab''daslkjfds', 'iuewrue;dasf','daf;lsadkf']"
   ]
  },
  {
   "cell_type": "code",
   "execution_count": 23,
   "id": "228b3038",
   "metadata": {},
   "outputs": [
    {
     "name": "stdout",
     "output_type": "stream",
     "text": [
      "['abdaslkjfds', 'iuewrue;dasf', 'daf;lsadkf']\n"
     ]
    }
   ],
   "source": [
    "## we want to apply filter over it\n",
    "filter_passwords = []\n",
    "for password in passwords:\n",
    "    if len(password) > 5:\n",
    "        filter_passwords.append(password)\n",
    "print(filter_passwords)"
   ]
  },
  {
   "cell_type": "code",
   "execution_count": 25,
   "id": "e78b2474",
   "metadata": {},
   "outputs": [
    {
     "name": "stdout",
     "output_type": "stream",
     "text": [
      "['abdaslkjfds', 'iuewrue;dasf', 'daf;lsadkf']\n"
     ]
    }
   ],
   "source": [
    "## now using filter function\n",
    "filtered = filter(lambda passowrd: len(passowrd) >=8, passwords)\n",
    "print(list(filtered))"
   ]
  },
  {
   "cell_type": "code",
   "execution_count": 27,
   "id": "0d8e0b6d",
   "metadata": {},
   "outputs": [
    {
     "data": {
      "text/plain": [
       "<filter at 0x28f419f8430>"
      ]
     },
     "execution_count": 27,
     "metadata": {},
     "output_type": "execute_result"
    }
   ],
   "source": [
    "filtered"
   ]
  },
  {
   "cell_type": "code",
   "execution_count": 49,
   "id": "ccf419fc",
   "metadata": {},
   "outputs": [
    {
     "data": {
      "text/plain": [
       "[]"
      ]
     },
     "execution_count": 49,
     "metadata": {},
     "output_type": "execute_result"
    }
   ],
   "source": [
    "list(filtered)"
   ]
  },
  {
   "cell_type": "markdown",
   "id": "708c1108",
   "metadata": {},
   "source": [
    "#### Inner Function\n",
    "when you define a function inside another function\n"
   ]
  },
  {
   "cell_type": "code",
   "execution_count": 52,
   "id": "7de3ae95",
   "metadata": {},
   "outputs": [],
   "source": [
    "def outer_function(name):\n",
    "    name = 'my name'\n",
    "    def inner_function():\n",
    "        print(f\"this is inner function, {name}\")\n",
    "    print(\"this is outer function\")\n",
    "    inner_function() ## to execute it we need to explacitly call it\n",
    "    return inner_function\n"
   ]
  },
  {
   "cell_type": "code",
   "execution_count": 53,
   "id": "07e7c8d6",
   "metadata": {},
   "outputs": [
    {
     "name": "stdout",
     "output_type": "stream",
     "text": [
      "this is outer function\n",
      "this is inner function, my name\n"
     ]
    }
   ],
   "source": [
    "function = outer_function(\"sahar\")"
   ]
  },
  {
   "cell_type": "code",
   "execution_count": 54,
   "id": "d9e33d57",
   "metadata": {},
   "outputs": [
    {
     "name": "stdout",
     "output_type": "stream",
     "text": [
      "this is inner function, my name\n"
     ]
    }
   ],
   "source": [
    "function()"
   ]
  },
  {
   "cell_type": "code",
   "execution_count": 55,
   "id": "932b5a12",
   "metadata": {},
   "outputs": [
    {
     "name": "stdout",
     "output_type": "stream",
     "text": [
      "this is outer function\n",
      "this is inner function, my name\n"
     ]
    },
    {
     "ename": "TypeError",
     "evalue": "cannot unpack non-iterable function object",
     "output_type": "error",
     "traceback": [
      "\u001b[1;31m---------------------------------------------------------------------------\u001b[0m",
      "\u001b[1;31mTypeError\u001b[0m                                 Traceback (most recent call last)",
      "Cell \u001b[1;32mIn[55], line 1\u001b[0m\n\u001b[1;32m----> 1\u001b[0m _, function1 \u001b[38;5;241m=\u001b[39m outer_function(\u001b[38;5;124m\"\u001b[39m\u001b[38;5;124mjames\u001b[39m\u001b[38;5;124m\"\u001b[39m)\n",
      "\u001b[1;31mTypeError\u001b[0m: cannot unpack non-iterable function object"
     ]
    }
   ],
   "source": [
    "_, function1 = outer_function(\"james\")"
   ]
  },
  {
   "cell_type": "markdown",
   "id": "d99b6d6f",
   "metadata": {},
   "source": [
    "### Decorator"
   ]
  },
  {
   "cell_type": "code",
   "execution_count": 57,
   "id": "136524cd",
   "metadata": {},
   "outputs": [],
   "source": [
    "from time import time\n",
    "def measureTime(func): # outer function will take parameter\n",
    "    def wrapper():      # do something \n",
    "        start_time = time()\n",
    "        func()\n",
    "        end_time = time()\n",
    "        print(\"execution time \", end_time - start_time)\n",
    "    return wrapper  # outer function will return inner function\n",
    "\n"
   ]
  },
  {
   "cell_type": "code",
   "execution_count": 58,
   "id": "538af983",
   "metadata": {},
   "outputs": [
    {
     "name": "stdout",
     "output_type": "stream",
     "text": [
      "execution time  0.002010345458984375\n"
     ]
    }
   ],
   "source": [
    "@measureTime\n",
    "def doSomeLooping():\n",
    "    for i in range(30):\n",
    "        print(i, end='\\r')\n",
    "doSomeLooping()"
   ]
  },
  {
   "cell_type": "code",
   "execution_count": 59,
   "id": "76cfdb8b",
   "metadata": {},
   "outputs": [],
   "source": [
    "@measureTime\n",
    "## we want to apply filter over it\n",
    "def filerPassword():\n",
    "    passwords = ['a','abc' ,'ab''daslkjfds', 'iuewrue;dasf','daf;lsadkf']\n",
    "    for password in passwords:\n",
    "        if len(password) > 5:\n",
    "            filter_passwords.append(password)\n",
    "    print(filter_passwords)"
   ]
  },
  {
   "cell_type": "code",
   "execution_count": null,
   "id": "19318e25",
   "metadata": {},
   "outputs": [],
   "source": [
    "passwords = ['a','abc' ,'ab''daslkjfds', 'iuewrue;dasf','daf;lsadkf']\n",
    "\n",
    "#@measureTime\n",
    "## we want to apply filter over it\n",
    "def filerPassword(password):\n",
    "    for password in passwords:\n",
    "        if len(password) > 5:\n",
    "            filter_passwords.append(password)\n",
    "    print(filter_passwords)"
   ]
  },
  {
   "cell_type": "markdown",
   "id": "1cd03f70",
   "metadata": {},
   "source": [
    "#### closure and Decorator\n",
    "must to learn at each cost"
   ]
  }
 ],
 "metadata": {
  "kernelspec": {
   "display_name": "Python 3",
   "language": "python",
   "name": "python3"
  },
  "language_info": {
   "codemirror_mode": {
    "name": "ipython",
    "version": 3
   },
   "file_extension": ".py",
   "mimetype": "text/x-python",
   "name": "python",
   "nbconvert_exporter": "python",
   "pygments_lexer": "ipython3",
   "version": "3.10.0"
  }
 },
 "nbformat": 4,
 "nbformat_minor": 5
}
