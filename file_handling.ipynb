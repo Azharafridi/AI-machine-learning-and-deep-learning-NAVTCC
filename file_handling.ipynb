{
 "cells": [
  {
   "cell_type": "markdown",
   "id": "313b7391",
   "metadata": {},
   "source": [
    "### File handling:\n"
   ]
  },
  {
   "cell_type": "code",
   "execution_count": null,
   "id": "e6093dfa",
   "metadata": {},
   "outputs": [],
   "source": []
  },
  {
   "cell_type": "code",
   "execution_count": 1,
   "id": "28ca0b0f",
   "metadata": {},
   "outputs": [],
   "source": [
    "file = open(\"my_data.txt\", \"r\")\n"
   ]
  },
  {
   "cell_type": "code",
   "execution_count": 2,
   "id": "65604614",
   "metadata": {},
   "outputs": [
    {
     "data": {
      "text/plain": [
       "_io.TextIOWrapper"
      ]
     },
     "execution_count": 2,
     "metadata": {},
     "output_type": "execute_result"
    }
   ],
   "source": [
    "type(file)"
   ]
  },
  {
   "cell_type": "code",
   "execution_count": 3,
   "id": "4a273aef",
   "metadata": {},
   "outputs": [
    {
     "data": {
      "text/plain": [
       "False"
      ]
     },
     "execution_count": 3,
     "metadata": {},
     "output_type": "execute_result"
    }
   ],
   "source": [
    "# check whether the file is open or not\n",
    "file.closed"
   ]
  },
  {
   "cell_type": "code",
   "execution_count": 4,
   "id": "7d1cad3e",
   "metadata": {},
   "outputs": [
    {
     "data": {
      "text/plain": [
       "'hello, we are students of AI\\nthis is another line\\na third line is also added'"
      ]
     },
     "execution_count": 4,
     "metadata": {},
     "output_type": "execute_result"
    }
   ],
   "source": [
    "file.read()"
   ]
  },
  {
   "cell_type": "code",
   "execution_count": null,
   "id": "9ead25ab",
   "metadata": {},
   "outputs": [
    {
     "data": {
      "text/plain": [
       "''"
      ]
     },
     "execution_count": 5,
     "metadata": {},
     "output_type": "execute_result"
    }
   ],
   "source": [
    "## if we need a file to read line by line\n",
    "file.readline()\n"
   ]
  },
  {
   "cell_type": "code",
   "execution_count": 15,
   "id": "2e7d7d4a",
   "metadata": {},
   "outputs": [
    {
     "data": {
      "text/plain": [
       "0"
      ]
     },
     "execution_count": 15,
     "metadata": {},
     "output_type": "execute_result"
    }
   ],
   "source": [
    "file.seek(0)"
   ]
  },
  {
   "cell_type": "code",
   "execution_count": 16,
   "id": "0dc8af02",
   "metadata": {},
   "outputs": [
    {
     "data": {
      "text/plain": [
       "'hello, we are students of AI\\n'"
      ]
     },
     "execution_count": 16,
     "metadata": {},
     "output_type": "execute_result"
    }
   ],
   "source": [
    "file.readline()"
   ]
  },
  {
   "cell_type": "code",
   "execution_count": 17,
   "id": "c2fd45f5",
   "metadata": {},
   "outputs": [
    {
     "name": "stdout",
     "output_type": "stream",
     "text": [
      "this is another line\n",
      "\n",
      "a third line is also added\n"
     ]
    }
   ],
   "source": [
    "for line in file:\n",
    "    #file.seek()\n",
    "    print(line)"
   ]
  },
  {
   "cell_type": "code",
   "execution_count": 19,
   "id": "918910e2",
   "metadata": {},
   "outputs": [
    {
     "data": {
      "text/plain": [
       "False"
      ]
     },
     "execution_count": 19,
     "metadata": {},
     "output_type": "execute_result"
    }
   ],
   "source": [
    "file.closed"
   ]
  },
  {
   "cell_type": "code",
   "execution_count": 20,
   "id": "2eaa44b7",
   "metadata": {},
   "outputs": [
    {
     "ename": "UnsupportedOperation",
     "evalue": "not writable",
     "output_type": "error",
     "traceback": [
      "\u001b[1;31m---------------------------------------------------------------------------\u001b[0m",
      "\u001b[1;31mUnsupportedOperation\u001b[0m                      Traceback (most recent call last)",
      "Cell \u001b[1;32mIn[20], line 1\u001b[0m\n\u001b[1;32m----> 1\u001b[0m \u001b[43mfile\u001b[49m\u001b[38;5;241;43m.\u001b[39;49m\u001b[43mwrite\u001b[49m\u001b[43m(\u001b[49m\u001b[38;5;124;43m\"\u001b[39;49m\u001b[38;5;124;43mthis is a new line\u001b[39;49m\u001b[38;5;124;43m\"\u001b[39;49m\u001b[43m)\u001b[49m\n",
      "\u001b[1;31mUnsupportedOperation\u001b[0m: not writable"
     ]
    }
   ],
   "source": [
    "file.write(\"this is a new line\")"
   ]
  },
  {
   "cell_type": "code",
   "execution_count": 21,
   "id": "6d834c4a",
   "metadata": {},
   "outputs": [],
   "source": [
    "file.close()"
   ]
  },
  {
   "cell_type": "code",
   "execution_count": 22,
   "id": "e585b7b8",
   "metadata": {},
   "outputs": [
    {
     "data": {
      "text/plain": [
       "True"
      ]
     },
     "execution_count": 22,
     "metadata": {},
     "output_type": "execute_result"
    }
   ],
   "source": [
    "file.closed"
   ]
  },
  {
   "cell_type": "code",
   "execution_count": 24,
   "id": "83611049",
   "metadata": {},
   "outputs": [
    {
     "data": {
      "text/plain": [
       "<function TextIOWrapper.readline(size=-1, /)>"
      ]
     },
     "execution_count": 24,
     "metadata": {},
     "output_type": "execute_result"
    }
   ],
   "source": [
    "file.readline"
   ]
  },
  {
   "cell_type": "code",
   "execution_count": 41,
   "id": "7d796fee",
   "metadata": {},
   "outputs": [],
   "source": [
    "## with this mode the file become empty\n",
    "file = open(\"my_data.txt\", \"w\")"
   ]
  },
  {
   "cell_type": "code",
   "execution_count": 42,
   "id": "6f0794b6",
   "metadata": {},
   "outputs": [
    {
     "data": {
      "text/plain": [
       "22"
      ]
     },
     "execution_count": 42,
     "metadata": {},
     "output_type": "execute_result"
    }
   ],
   "source": [
    "file.write(\"this is something new\\n\")"
   ]
  },
  {
   "cell_type": "code",
   "execution_count": 43,
   "id": "fa780fc4",
   "metadata": {},
   "outputs": [],
   "source": [
    "file.flush()"
   ]
  },
  {
   "cell_type": "code",
   "execution_count": 44,
   "id": "40ff2337",
   "metadata": {},
   "outputs": [],
   "source": [
    "file.close()"
   ]
  },
  {
   "cell_type": "code",
   "execution_count": 45,
   "id": "9719e2f9",
   "metadata": {},
   "outputs": [],
   "source": [
    "## when open with \"a\" mode it will contain the previous data\n",
    "file = open(\"my_data.txt\", \"a\")\n",
    "file.write(\"this is something we add at append mode \\n\")\n",
    "file.flush()\n",
    "file.close()\n"
   ]
  },
  {
   "cell_type": "code",
   "execution_count": 50,
   "id": "3626282f",
   "metadata": {},
   "outputs": [
    {
     "data": {
      "text/plain": [
       "''"
      ]
     },
     "execution_count": 50,
     "metadata": {},
     "output_type": "execute_result"
    }
   ],
   "source": [
    "file = open(\"my_data.txt\", \"w+\")\n",
    "file.read()\n"
   ]
  },
  {
   "cell_type": "code",
   "execution_count": 53,
   "id": "da34aa11",
   "metadata": {},
   "outputs": [],
   "source": [
    "file = open('binary.bin', 'wb+')\n"
   ]
  },
  {
   "cell_type": "code",
   "execution_count": 54,
   "id": "eecad52e",
   "metadata": {},
   "outputs": [],
   "source": [
    "file.write(b'sasdfdsakghajksdf')\n",
    "file.flush()"
   ]
  },
  {
   "cell_type": "code",
   "execution_count": 56,
   "id": "8ed2e7a0",
   "metadata": {},
   "outputs": [
    {
     "data": {
      "text/plain": [
       "b'sasdfdsakghajksdf'"
      ]
     },
     "execution_count": 56,
     "metadata": {},
     "output_type": "execute_result"
    }
   ],
   "source": [
    "file.seek(0)\n",
    "file.read()"
   ]
  },
  {
   "cell_type": "code",
   "execution_count": null,
   "id": "9e589b30",
   "metadata": {},
   "outputs": [],
   "source": [
    "image_file = open()"
   ]
  },
  {
   "cell_type": "code",
   "execution_count": 57,
   "id": "c048f8c0",
   "metadata": {},
   "outputs": [
    {
     "name": "stdout",
     "output_type": "stream",
     "text": [
      "False\n",
      "\n"
     ]
    }
   ],
   "source": [
    "with open(\"my_data.txt\", 'r') as file:\n",
    "    print(file.closed)\n",
    "    if(not file.closed):\n",
    "        print(file.read())\n",
    "        "
   ]
  },
  {
   "cell_type": "markdown",
   "id": "b7137535",
   "metadata": {},
   "source": [
    "#### Exception Handling"
   ]
  },
  {
   "cell_type": "code",
   "execution_count": null,
   "id": "9f4d95d9",
   "metadata": {},
   "outputs": [
    {
     "name": "stdout",
     "output_type": "stream",
     "text": [
      "    name  age   hight\n",
      "0  azhar   24  2345.0\n",
      "1   eman   24  1455.0\n"
     ]
    }
   ],
   "source": [
    "import pandas as pd\n",
    "people_data = []\n",
    "\n",
    "for i in range(2):\n",
    "    name = input(\"enter name\")\n",
    "    try:\n",
    "        if name not is str:\n",
    "            print(\"name must be a string\")\n",
    "    except ValueError:\n",
    "        print(\"name must be a string\")\n",
    "    age = int(input(\"enter age\"))\n",
    "    hight = float(input(\"enter hight\"))\n",
    "    \n",
    "    people_data.append({\"name\":name, \"age\":age, \"hight\":hight})\n",
    "\n",
    "df = pd.DataFrame(people_data)\n",
    "df.to_csv(\"people_data.csv\", index = False)\n",
    "print(df)\n",
    "\n",
    "\n",
    "\n"
   ]
  },
  {
   "cell_type": "markdown",
   "id": "94abd65a",
   "metadata": {},
   "source": []
  },
  {
   "cell_type": "code",
   "execution_count": null,
   "id": "3c517320",
   "metadata": {},
   "outputs": [],
   "source": []
  }
 ],
 "metadata": {
  "kernelspec": {
   "display_name": "Python 3",
   "language": "python",
   "name": "python3"
  },
  "language_info": {
   "codemirror_mode": {
    "name": "ipython",
    "version": 3
   },
   "file_extension": ".py",
   "mimetype": "text/x-python",
   "name": "python",
   "nbconvert_exporter": "python",
   "pygments_lexer": "ipython3",
   "version": "3.10.0"
  }
 },
 "nbformat": 4,
 "nbformat_minor": 5
}
